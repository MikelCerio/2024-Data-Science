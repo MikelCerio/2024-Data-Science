{
 "cells": [
  {
   "cell_type": "markdown",
   "metadata": {},
   "source": [
    "![imagen](./img/ejercicios.png)"
   ]
  },
  {
   "cell_type": "markdown",
   "metadata": {},
   "source": [
    "# Ejercicios funciones\n",
    "## Ejercicio 1\n",
    "Escribe una función que convierta números del 1 al 7 en nombres de los dias de la semana. La función constará de un único argumento numérico y una salida de tipo string"
   ]
  },
  {
   "cell_type": "code",
   "execution_count": 8,
   "metadata": {},
   "outputs": [],
   "source": [
    "# AQUÍ VA VUESTRO CÓDIGO\n",
    "\n",
    "def dia_de_la_semana(dias):\n",
    "    dias_semana = {1:\"Lunes\",2:\"Martes\",3:\"Miercoles\",4:\"Jueves\",5:\"Viernes\",6:\"Sábado\",7:\"Domingo\"}\n",
    "\n",
    "    return dias_semana[dias]\n"
   ]
  },
  {
   "cell_type": "code",
   "execution_count": 9,
   "metadata": {},
   "outputs": [
    {
     "data": {
      "text/plain": [
       "'Lunes'"
      ]
     },
     "execution_count": 9,
     "metadata": {},
     "output_type": "execute_result"
    }
   ],
   "source": [
    "dia_de_la_semana(1)"
   ]
  },
  {
   "cell_type": "markdown",
   "metadata": {},
   "source": [
    "## Ejercicio 2\n",
    "En el ejercicio 8 de flujos de control, creábamos una pirámide invertida de números desde el 5. Crea una función que replique el comportamiento de la pirámide, y utiliza un único parámetro de entrada de la función para determinar el número de filas de la pirámide."
   ]
  },
  {
   "cell_type": "code",
   "execution_count": 12,
   "metadata": {},
   "outputs": [
    {
     "name": "stdout",
     "output_type": "stream",
     "text": [
      "8 7 6 5 4 3 2 1\n",
      "7 6 5 4 3 2 1\n",
      "6 5 4 3 2 1\n",
      "5 4 3 2 1\n",
      "4 3 2 1\n",
      "3 2 1\n",
      "2 1\n",
      "1\n"
     ]
    }
   ],
   "source": [
    "# AQUÍ VA VUESTRO CÓDIGO\n",
    "def piramide(n):\n",
    "n = 8\n",
    "lista_numeros = list(range(n,0,-1))\n",
    "\n",
    "for _ in range(n):\n",
    "    print(*lista_numeros)\n",
    "    lista_numeros.pop(0)"
   ]
  },
  {
   "cell_type": "markdown",
   "metadata": {},
   "source": [
    "## Ejercicio 3\n",
    "Escribe una función que compare dos números. La función tiene dos argumentos y hay tres salidas posibles: que sean iguales, que el primero sea  mayor que el segundo, o que el segundo sea mayor que el primero"
   ]
  },
  {
   "cell_type": "code",
   "execution_count": 9,
   "metadata": {},
   "outputs": [],
   "source": [
    "# AQUÍ VA VUESTRO CÓDIGO\n",
    "def comparar_numeros(x,y):\n",
    "    \n",
    "    if x == y:\n",
    "        return(\"Son iguales\")\n",
    "    elif x > y:\n",
    "        return(f\"{x} es mayor que {y}\")\n",
    "    else:\n",
    "        return(f\"{y} es mayor que {x}\")\n",
    "    \n"
   ]
  },
  {
   "cell_type": "code",
   "execution_count": 10,
   "metadata": {},
   "outputs": [
    {
     "data": {
      "text/plain": [
       "'8 es mayor que 7'"
      ]
     },
     "execution_count": 10,
     "metadata": {},
     "output_type": "execute_result"
    }
   ],
   "source": [
    "comparar_numeros(7,8)"
   ]
  },
  {
   "attachments": {},
   "cell_type": "markdown",
   "metadata": {},
   "source": [
    "## Ejercicio 4\n",
    "Escribe una función que sea un contador de letras. En el primer argumento tienes que introducir un texto, y el segundo que sea una letra que contar. La función tiene que devolver un entero con el número de veces que aparece esa letra, tanto mayúscula, como minúscula"
   ]
  },
  {
   "cell_type": "code",
   "execution_count": 1,
   "metadata": {},
   "outputs": [],
   "source": [
    "# AQUÍ VA VUESTRO CÓDIGO\n",
    "def contador_de_letras(texto,letra):\n",
    "    conteo = texto.count(letra)\n",
    "    return (f\"la {letra} aparece {conteo} veces\")\n",
    "           \n"
   ]
  },
  {
   "cell_type": "code",
   "execution_count": 2,
   "metadata": {},
   "outputs": [
    {
     "name": "stdout",
     "output_type": "stream",
     "text": [
      "la o aparece 2 veces\n"
     ]
    }
   ],
   "source": [
    "texto = \"Hola me llamo Mikel\"\n",
    "letra = \"o\"\n",
    "resultado = contador_de_letras(texto,letra)\n",
    "print(resultado)"
   ]
  },
  {
   "cell_type": "markdown",
   "metadata": {},
   "source": [
    "## Ejercicio 5\n",
    "Escribe una función que tenga un único argumento, un string. La salida de la función tiene que ser un diccionario con el conteo de todas las letras de ese string, siendo la clave la letra y el valor el conteo."
   ]
  },
  {
   "cell_type": "code",
   "execution_count": 5,
   "metadata": {},
   "outputs": [],
   "source": [
    "# AQUÍ VA VUESTRO CÓDIGO\n",
    "def diccionario_de_letras(string):\n",
    "    diccionario = {}\n",
    "    for letra in string:\n",
    "        if letra in diccionario:\n",
    "            diccionario[letra] +=1\n",
    "        else:\n",
    "            diccionario[letra] = 1\n",
    "    return diccionario"
   ]
  },
  {
   "cell_type": "code",
   "execution_count": 8,
   "metadata": {},
   "outputs": [
    {
     "name": "stdout",
     "output_type": "stream",
     "text": [
      "{'e': 2, 'l': 1, 'n': 1, 'a': 1}\n"
     ]
    }
   ],
   "source": [
    "string = \"elena\"\n",
    "\n",
    "resultado = diccionario_de_letras(string)\n",
    "\n",
    "print(resultado)"
   ]
  },
  {
   "cell_type": "markdown",
   "metadata": {},
   "source": [
    "## Ejercicio 6\n",
    "Escribir una función que añada o elimine elementos en una lista. La función necesita los siguientes argumentos:\n",
    "* lista: la lista donde se añadirán o eliminarán los elementos\n",
    "* comando: \"add\" o \"remove\"\n",
    "* elemento: Por defecto es None.\n",
    "\n",
    "Tendrá como salida la lista"
   ]
  },
  {
   "cell_type": "code",
   "execution_count": 12,
   "metadata": {},
   "outputs": [],
   "source": [
    "# AQUÍ VA VUESTRO CÓDIGO\n",
    "def lista_funcion(lista,comando,elemento=None):\n",
    "    if comando == \"add\":\n",
    "        if elemento is not None:\n",
    "            lista.append(elemento)\n",
    "        else:\n",
    "            print(\"Error:Debes proporcionar un elemento a añadir.\")\n",
    "    elif comando == \"remove\":\n",
    "        if elemento in lista:\n",
    "            lista.remove(elemento)\n",
    "        else:\n",
    "            print(f\"Error: El elemento '{elemento}' no está en la lista.\")\n",
    "    else:\n",
    "        print(f\"Error : Comando '{comando}' no reconocido\")\n",
    "\n",
    "    return lista\n",
    "\n"
   ]
  },
  {
   "cell_type": "code",
   "execution_count": 14,
   "metadata": {},
   "outputs": [
    {
     "name": "stdout",
     "output_type": "stream",
     "text": [
      "Error: El elemento '4' no está en la lista.\n",
      "[1, 2, 3]\n"
     ]
    }
   ],
   "source": [
    "my_lista = [1,2,3]\n",
    "\n",
    "resultado = lista_funcion(my_lista,\"remove\",4)\n",
    "print(resultado)"
   ]
  },
  {
   "cell_type": "code",
   "execution_count": null,
   "metadata": {},
   "outputs": [],
   "source": []
  },
  {
   "cell_type": "markdown",
   "metadata": {},
   "source": [
    "## Ejercicio 7\n",
    "Crea una función que reciba un número arbitrario de palabras, y devuelva una frase completa, separando las palabras con espacios."
   ]
  },
  {
   "cell_type": "code",
   "execution_count": 65,
   "metadata": {},
   "outputs": [
    {
     "data": {
      "text/plain": [
       "'perro gato pelea '"
      ]
     },
     "execution_count": 65,
     "metadata": {},
     "output_type": "execute_result"
    }
   ],
   "source": [
    "# AQUÍ VA VUESTRO CÓDIGO\n",
    "def palabras_concatenadas(*args):\n",
    "    cadena_concatenada = \"\"\n",
    "    for palabra in args:\n",
    "        #Concatene\n",
    "        cadena_concatenada = cadena_concatenada + palabra + \" \"\n",
    "    return cadena_concatenada\n",
    "palabras_concatenadas(\"perro\",\"gato\", \"pelea\")"
   ]
  },
  {
   "cell_type": "markdown",
   "metadata": {},
   "source": [
    "## Ejercicio 8\n",
    "Escribe un programa que obtenga el enésimo número de la [serie de Fibonacci](https://es.wikipedia.org/wiki/Sucesi%C3%B3n_de_Fibonacci). Tienes que crear una función recursiva con un único argumento.\n",
    "\n",
    "```Python\n",
    "fibonacci(2) = 1\n",
    "fibonacci(4) = 3\n",
    "fibonacci(5) = 5\n",
    "fibonacci(8) = 21\n",
    "```"
   ]
  },
  {
   "cell_type": "markdown",
   "metadata": {},
   "source": [
    "fibonacci(n) = fibonacci(n-1) + fibonacci(n-2)"
   ]
  },
  {
   "cell_type": "code",
   "execution_count": 18,
   "metadata": {},
   "outputs": [
    {
     "data": {
      "text/plain": [
       "1"
      ]
     },
     "execution_count": 18,
     "metadata": {},
     "output_type": "execute_result"
    }
   ],
   "source": [
    "# AQUÍ VA VUESTRO CÓDIGO\n",
    "def fibonacci(x):\n",
    "    if x == 0:\n",
    "        return (0)\n",
    "    elif x == 1:\n",
    "        return (1)\n",
    "    else:\n",
    "        return fibonacci(x-1) + fibonacci(x-2)\n",
    "    \n",
    "fibonacci(2)\n",
    "\n",
    "\n",
    "\n",
    "\n"
   ]
  },
  {
   "cell_type": "code",
   "execution_count": 21,
   "metadata": {},
   "outputs": [
    {
     "name": "stdout",
     "output_type": "stream",
     "text": [
      "0\n",
      "1\n",
      "1\n",
      "2\n",
      "3\n",
      "5\n",
      "8\n",
      "13\n",
      "21\n",
      "34\n"
     ]
    }
   ],
   "source": [
    "for n in range(10):\n",
    "    print(fibonacci(n))"
   ]
  },
  {
   "cell_type": "code",
   "execution_count": null,
   "metadata": {},
   "outputs": [],
   "source": []
  },
  {
   "attachments": {},
   "cell_type": "markdown",
   "metadata": {},
   "source": [
    "## Ejercicio 9\n",
    "Define en una única celda las siguientes funciones:\n",
    "* Función que calcule el área de un cuadrado\n",
    "* Función que calcule el área de un triángulo\n",
    "* Función que calcule el área de un círculo\n",
    "\n",
    "En otra celda, calcular el area de:\n",
    "* Dos círculos de radio 10 + un triángulo de base 3 y altura 7\n",
    "* Un cuadrado de lado = 10 + 3 círculos (uno de radio = 4 y los otros dos de radio = 6) + 5 triángulos de base = 2 + altura = 4"
   ]
  },
  {
   "cell_type": "code",
   "execution_count": 39,
   "metadata": {},
   "outputs": [],
   "source": [
    "# AQUÍ VA VUESTRO CÓDIGO\n",
    "\n",
    "from math import pi\n",
    "\n",
    "def area_cuadrado(lado):\n",
    "    return lado * lado\n",
    "\n",
    "def area_triangulo(base,altura):\n",
    "    return (base * altura) / 2\n",
    "\n",
    "def area_circulo(radio):\n",
    "    return pi * radio **2"
   ]
  },
  {
   "cell_type": "code",
   "execution_count": 18,
   "metadata": {},
   "outputs": [
    {
     "name": "stdout",
     "output_type": "stream",
     "text": [
      "638.8185307179587\n"
     ]
    }
   ],
   "source": [
    "# Dos círculos de radio 10 + un triángulo de base 3 y altura 7\n",
    "\n",
    "area_circulo = area_circulo(10)\n",
    "\n",
    "area_triangulo = area_triangulo(3,7)\n",
    "\n",
    "area_total = 2*area_circulo + area_triangulo\n",
    "\n",
    "print(area_total)"
   ]
  },
  {
   "cell_type": "code",
   "execution_count": 41,
   "metadata": {},
   "outputs": [
    {
     "name": "stdout",
     "output_type": "stream",
     "text": [
      "396.46015351590177\n"
     ]
    }
   ],
   "source": [
    "#Un cuadrado de lado = 10 + 3 círculos (uno de radio = 4 y los otros dos de radio = 6) + 5 triángulos de base = 2 + altura = 4\n",
    "valor_area_cuadrado = area_cuadrado(10)\n",
    "\n",
    "valor_area_circulo = area_circulo(4)\n",
    "\n",
    "area_circulos = area_circulo(6) * 2\n",
    "\n",
    "area_triangulos = 5 * area_triangulo(2,4)\n",
    "\n",
    "area_total2 = valor_area_cuadrado + valor_area_circulo + area_circulos + area_triangulos\n",
    "\n",
    "print(area_total2)"
   ]
  },
  {
   "cell_type": "markdown",
   "metadata": {},
   "source": [
    "## Ejercicio 10\n",
    "\n",
    "Guarda las funciones de estos ejercicios en un fichero llamado `funciones.py` e importalas desde este jupyter notebook para probar que puedes hacer uso de ellas."
   ]
  },
  {
   "cell_type": "code",
   "execution_count": 44,
   "metadata": {},
   "outputs": [],
   "source": [
    "from funciones import area_circulo,area_triangulo,area_cuadrado"
   ]
  },
  {
   "cell_type": "code",
   "execution_count": 45,
   "metadata": {},
   "outputs": [
    {
     "name": "stdout",
     "output_type": "stream",
     "text": [
      "16\n"
     ]
    }
   ],
   "source": [
    "area_del_cuadrado = area_cuadrado(4)\n",
    "\n",
    "print(area_del_cuadrado)"
   ]
  },
  {
   "cell_type": "code",
   "execution_count": 46,
   "metadata": {},
   "outputs": [
    {
     "name": "stdout",
     "output_type": "stream",
     "text": [
      "78.53981633974483\n"
     ]
    }
   ],
   "source": [
    "area_del_circulo = area_circulo(5)\n",
    "\n",
    "print(area_del_circulo)"
   ]
  }
 ],
 "metadata": {
  "kernelspec": {
   "display_name": "Python 3.7.4 64-bit",
   "language": "python",
   "name": "python3"
  },
  "language_info": {
   "codemirror_mode": {
    "name": "ipython",
    "version": 3
   },
   "file_extension": ".py",
   "mimetype": "text/x-python",
   "name": "python",
   "nbconvert_exporter": "python",
   "pygments_lexer": "ipython3",
   "version": "3.11.7"
  },
  "vscode": {
   "interpreter": {
    "hash": "90139cb9a825bf3d63f6f6704e828dbd1ff7edbd4d0c6e906a71235d6efc74af"
   }
  }
 },
 "nbformat": 4,
 "nbformat_minor": 4
}
