{
 "cells": [
  {
   "attachments": {},
   "cell_type": "markdown",
   "metadata": {},
   "source": [
    "### Ejercicio 1 \n",
    "En este ejercicio se va a crear una lista con los siguientes elementos. Primero, crearemos las variables que luego añadiremos a la lista. Las variables son las siguientes:\n",
    "\n",
    "1. Crea una variable llamada `edad` de tipo Integer que represente tu edad en años. \n",
    "2. Crea una variable llamada `poblacion` de tipo String , con tu población de nacimiento. \n",
    "3. Crea una variable llamada `altura` con el valor de tu altura en metros de tipo float.\n",
    "4. Crea una variable llamada `s_operativo` de tipo Boolean True si usas Windows y False si usas otro.\n",
    "5. Crea una variable llamada `nada` de tipo None cuyo valor sea None.\n",
    "6. Crea una variable llamada `lista_vacaciones` de tipo List que contenga 5 destinos de viaje a los que te gustaría ir. Cada elemento ha de ser de tipo String.\n",
    "7. Crea una variable llamada `tupla_isla` de tipo Tuple con tres objetos que te llevarías a una isla desierta.\n",
    "8. Crea una variable llamada `dict_pc` con dos keys y dos values. Una key es `marca`, teniendo como value la marca de tu pc de tipo String. Otra key es la `ram`, cuyo valor es es un entero del número de gigas de la ram de tu ordenador\n",
    "9. Añade todos estos elementos en una lista llamada `lista_examen` en el orden de aparición.\n",
    "10. Guarda en la variable `lon_lista_examen` la longitud de `lista_examen`."
   ]
  },
  {
   "cell_type": "code",
   "execution_count": 1,
   "metadata": {},
   "outputs": [
    {
     "data": {
      "text/plain": [
       "8"
      ]
     },
     "execution_count": 1,
     "metadata": {},
     "output_type": "execute_result"
    }
   ],
   "source": [
    "edad = int(33)\n",
    "poblacion = str(\"Bilbao\")\n",
    "altura = float(1.74)\n",
    "s_operativo_windows= True \n",
    "nada = None\n",
    "lista_vacaciones = [\"Kyoto, Japón\", \"Santorini, Grecia\", \"Machu Picchu, Perú\", \"Reikiavik, Islandia\", \"Queenstown, Nueva Zelanda\"]\n",
    "\n",
    "tupla_isla = (\"cuchillo\",\"chisquero\",\"radio\")\n",
    "dict_pc ={\"marca\":\"Lenovo\",\"ram\":16}\n",
    "lista_examen = [edad,poblacion,altura , s_operativo_windows , nada , lista_vacaciones , tupla_isla , dict_pc]\n",
    "lon_lista_examen = len(lista_examen)\n",
    "lon_lista_examen"
   ]
  },
  {
   "attachments": {},
   "cell_type": "markdown",
   "id": "ff4becae-86c4-46ab-9e09-3aeec5296700",
   "metadata": {},
   "source": [
    "### Ejercicio 2 \n",
    "\n",
    "Para resolver este ejercicio necesitarás la lista del ejercicio anterior (`lista_examen`). Se recomienda leer cada punto hasta el final antes de resolver el ejercicio.\n",
    "\n",
    "Se repite para que quede aún más claro: **SOLO USAR LA VARIABLE** `lista_examen`. Usar otra variable se calificará como error.  \n",
    "\n",
    "1. Guardar en las variables, sin uso de funciones (puedes usar print) ni bucles: \n",
    "    - `res21` El tercer destino de vacaciones\n",
    "    - `res22` El penúltimo objeto que te llevarías a una isla para todo tipo de longitudes de listados.\n",
    "    - `res23` Los 3 primeros caracteres de la población de nacimiento.\n",
    "    - `res24` Una lista de los valores del diccionario de tu pc.\n",
    "    - `res25` Guardar dentro del diccionario dentro de `lista_examen` una nueva clave llamada `s_operativo` con una lista de 3 booleanos, True si es Windows, de tus últimos 3 pcs.\n",
    "\n"
   ]
  },
  {
   "cell_type": "code",
   "execution_count": 2,
   "metadata": {},
   "outputs": [
    {
     "name": "stdout",
     "output_type": "stream",
     "text": [
      "Machu Picchu, Perú\n",
      "chisquero\n",
      "Bil\n",
      "['Lenovo', 16]\n",
      "{'marca': 'Lenovo', 'ram': 16, 's_operativo': [True, False, True]}\n"
     ]
    }
   ],
   "source": [
    "\n",
    "#1.\n",
    "\n",
    "res21 = lista_examen[5][2]\n",
    "\n",
    "print(res21)\n",
    "\n",
    "r22 = lista_examen[6][-2]\n",
    "\n",
    "print(r22)\n",
    "\n",
    "r23 = lista_examen[1][0:3]\n",
    "\n",
    "print(r23)\n",
    "\n",
    "r24 = list(lista_examen[7].values())\n",
    "\n",
    "print(r24)\n",
    "\n",
    "r25 = lista_examen[-1][\"s_operativo\"] =  [True,False,True]\n",
    "\n",
    "r25 = lista_examen[-1]\n",
    "\n",
    "print(r25)"
   ]
  },
  {
   "cell_type": "markdown",
   "metadata": {},
   "source": [
    "2. Mostrar por pantalla, con uso de un bucle `for`:\n",
    "    - Las posiciones y elementos de `lista_examen` de las posiciones impares.\n",
    "    - Todos los elementos de `lista_examen` al revés.\n",
    "    - Todos aquellos elementos que sean colecciones ordenadas de `lista_examen`, si no lo son, imprimir el tipo.\n",
    "\n",
    "<br></br>  \n"
   ]
  },
  {
   "cell_type": "code",
   "execution_count": 3,
   "metadata": {},
   "outputs": [
    {
     "name": "stdout",
     "output_type": "stream",
     "text": [
      "1 Bilbao\n",
      "3 True\n",
      "5 ['Kyoto, Japón', 'Santorini, Grecia', 'Machu Picchu, Perú', 'Reikiavik, Islandia', 'Queenstown, Nueva Zelanda']\n",
      "7 {'marca': 'Lenovo', 'ram': 16, 's_operativo': [True, False, True]}\n"
     ]
    }
   ],
   "source": [
    "for pos,val in enumerate(lista_examen):\n",
    "    if pos % 2 !=0: #impar\n",
    "        print(pos,val)"
   ]
  },
  {
   "cell_type": "code",
   "execution_count": 4,
   "metadata": {},
   "outputs": [
    {
     "name": "stdout",
     "output_type": "stream",
     "text": [
      "1 Bilbao\n",
      "3 True\n",
      "5 ['Kyoto, Japón', 'Santorini, Grecia', 'Machu Picchu, Perú', 'Reikiavik, Islandia', 'Queenstown, Nueva Zelanda']\n",
      "7 {'marca': 'Lenovo', 'ram': 16, 's_operativo': [True, False, True]}\n"
     ]
    }
   ],
   "source": [
    "for pos in range(1, len(lista_examen),2):\n",
    "    print(pos,lista_examen[pos])"
   ]
  },
  {
   "cell_type": "code",
   "execution_count": 5,
   "metadata": {},
   "outputs": [
    {
     "name": "stdout",
     "output_type": "stream",
     "text": [
      "{'marca': 'Lenovo', 'ram': 16, 's_operativo': [True, False, True]}\n",
      "('cuchillo', 'chisquero', 'radio')\n",
      "['Kyoto, Japón', 'Santorini, Grecia', 'Machu Picchu, Perú', 'Reikiavik, Islandia', 'Queenstown, Nueva Zelanda']\n",
      "None\n",
      "True\n",
      "1.74\n",
      "Bilbao\n",
      "33\n"
     ]
    }
   ],
   "source": [
    "for elem in reversed(lista_examen):\n",
    "    print(elem)"
   ]
  },
  {
   "cell_type": "code",
   "execution_count": 6,
   "metadata": {},
   "outputs": [
    {
     "ename": "SyntaxError",
     "evalue": "invalid syntax (1352775548.py, line 3)",
     "output_type": "error",
     "traceback": [
      "\u001b[1;36m  Cell \u001b[1;32mIn[6], line 3\u001b[1;36m\u001b[0m\n\u001b[1;33m    if\u001b[0m\n\u001b[1;37m       ^\u001b[0m\n\u001b[1;31mSyntaxError\u001b[0m\u001b[1;31m:\u001b[0m invalid syntax\n"
     ]
    }
   ],
   "source": [
    "#2.3\n",
    "for elem in lista_examen:\n",
    "    if "
   ]
  },
  {
   "cell_type": "markdown",
   "metadata": {},
   "source": [
    "\n",
    "3. Con uso del bucle `while`, borra los destinos por la cola hasta que tengas 3 destinos, y guarda esos destinos borrados en una nueva lista `destinos_borrados`.\n",
    "\n",
    "\n",
    "    \n",
    "\n",
    "    "
   ]
  },
  {
   "cell_type": "code",
   "execution_count": 7,
   "metadata": {},
   "outputs": [
    {
     "name": "stdout",
     "output_type": "stream",
     "text": [
      "['Queenstown, Nueva Zelanda']\n",
      "['Queenstown, Nueva Zelanda', 'Reikiavik, Islandia']\n"
     ]
    }
   ],
   "source": [
    "destinos_borrados = []\n",
    "while len(lista_examen[5])>3:\n",
    "    destinos_borrados.append(lista_examen[5].pop())\n",
    "    print(destinos_borrados)"
   ]
  },
  {
   "attachments": {},
   "cell_type": "markdown",
   "metadata": {},
   "source": [
    "### Ejercicio 3\n",
    "\n",
    "#### Crear un programa que calcule la cuota de una hipoteca\n",
    "\n",
    "Las cuotas hipotecarias se calculan utilizando la fórmula del interés francés. \n",
    "\n",
    "La fórmula del interés frances es la siguiente:\n",
    "\\begin{align*}\n",
    "C=V \\frac{(1+i)^n i}{(1+i)^n -1}\n",
    "\\end{align*}\n",
    "\n",
    "\n",
    "    C = cuota a pagar (mensual)\n",
    "    V = volumen del préstamo hipotecario\n",
    "    i = tipo de interés del período (mensual)\n",
    "    n = número de cuotas (mensuales)\n",
    "\n",
    "1. Crea un programa que solicite al usuario los datos de su hipoteca mediante input() los datos (volumen, interés **anual**, y plazo en **años**) y le devuelva la cuota **mensual** a pagar. No es necesario encapsularlo en funciones.\n"
   ]
  },
  {
   "cell_type": "code",
   "execution_count": 12,
   "metadata": {},
   "outputs": [
    {
     "name": "stdout",
     "output_type": "stream",
     "text": [
      "592.6813482265784\n"
     ]
    }
   ],
   "source": [
    "V =  float(input(\"Cuanto dinero necesitas\"))  #volumen del préstamo hipotecario\n",
    "i = float(input(\"Tipo de interes\"))   #tipo de interés del período (mensual)\n",
    "años = int(input(\"Numero de cuotas\"))    #número de cuotas (mensuales)\n",
    "\n",
    "\n",
    "#intereses mensual\n",
    "interes_mensual = i / 100 /12\n",
    "\n",
    "#Numero de meses\n",
    "n = años *12\n",
    "C = V * (1+interes_mensual)**n *interes_mensual/((1+interes_mensual)**n -1)    #cuota a pagar (mensual)\n",
    "print(C)"
   ]
  },
  {
   "cell_type": "markdown",
   "metadata": {},
   "source": [
    "\n",
    "\n",
    "2. Crea una función `calcular_hip` que realiza el cálculo y cuyos argumentos de entrada sean `volumen`, `interes_anual` y `años`, devolviendo la couta mensual(float). El argumento de `años` deberá de tener un valor por defecto de 30.\n"
   ]
  },
  {
   "cell_type": "code",
   "execution_count": 1,
   "metadata": {},
   "outputs": [
    {
     "ename": "NameError",
     "evalue": "name 'V' is not defined",
     "output_type": "error",
     "traceback": [
      "\u001b[1;31m---------------------------------------------------------------------------\u001b[0m",
      "\u001b[1;31mNameError\u001b[0m                                 Traceback (most recent call last)",
      "Cell \u001b[1;32mIn[1], line 10\u001b[0m\n\u001b[0;32m      6\u001b[0m     n \u001b[38;5;241m=\u001b[39m años \u001b[38;5;241m*\u001b[39m\u001b[38;5;241m12\u001b[39m\n\u001b[0;32m      8\u001b[0m     \u001b[38;5;28;01mreturn\u001b[39;00m V \u001b[38;5;241m*\u001b[39m (\u001b[38;5;241m1\u001b[39m\u001b[38;5;241m+\u001b[39minteres_mensual)\u001b[38;5;241m*\u001b[39m\u001b[38;5;241m*\u001b[39mn \u001b[38;5;241m*\u001b[39minteres_mensual\u001b[38;5;241m/\u001b[39m((\u001b[38;5;241m1\u001b[39m\u001b[38;5;241m+\u001b[39minteres_mensual)\u001b[38;5;241m*\u001b[39m\u001b[38;5;241m*\u001b[39mn \u001b[38;5;241m-\u001b[39m\u001b[38;5;241m1\u001b[39m)\n\u001b[1;32m---> 10\u001b[0m \u001b[38;5;28;01mif\u001b[39;00m V \u001b[38;5;241m==\u001b[39m \u001b[38;5;241m3500000\u001b[39m \u001b[38;5;129;01mand\u001b[39;00m interes_mensual \u001b[38;5;241m==\u001b[39m \u001b[38;5;241m5\u001b[39m \u001b[38;5;129;01mand\u001b[39;00m años \u001b[38;5;241m==\u001b[39m\u001b[38;5;241m20\u001b[39m:\n\u001b[0;32m     11\u001b[0m     res_cuota \u001b[38;5;241m=\u001b[39m calcular_hip(V,interes_mensual,años)\n\u001b[0;32m     12\u001b[0m \u001b[38;5;28;01melse\u001b[39;00m:\n",
      "\u001b[1;31mNameError\u001b[0m: name 'V' is not defined"
     ]
    }
   ],
   "source": [
    "V =  float(input(\"Cuanto dinero necesitas\"))  #volumen del préstamo hipotecario\n",
    "i = float(input(\"Tipo de interes\"))   #tipo de interés del período (mensual)\n",
    "años = int(input(\"Numero de cuotas\"))    #número de cuotas (mensuales)\n",
    "\n",
    "\n",
    "def calcular_hip(V,interes_mensual,años=30):\n",
    "    #intereses mensual\n",
    "    interes_mensual = i / 100 /12\n",
    "\n",
    "    #Numero de meses\n",
    "    n = años *12\n",
    "\n",
    "    return V * (1+interes_mensual)**n *interes_mensual/((1+interes_mensual)**n -1)\n",
    "\n",
    "if V == 3500000 and interes_mensual == 5 and años ==20:\n",
    "    res_cuota = calcular_hip(V,interes_mensual,años)\n",
    "else:\n",
    "    print(calcular_hip(V,interes_mensual,años))"
   ]
  },
  {
   "cell_type": "markdown",
   "metadata": {},
   "source": [
    "\n",
    "3. Calcula la cuota y guárdala en la variable `res_cuota` si la cantidad de la hipoteca son 350000 euros, el interés anual es del 5% y la quiere pagar en 20 años a partir de la función `calcular_hip`.\n"
   ]
  },
  {
   "cell_type": "code",
   "execution_count": null,
   "metadata": {},
   "outputs": [],
   "source": []
  },
  {
   "cell_type": "markdown",
   "metadata": {},
   "source": [
    "\n",
    "4. Crea una función `gasto_vivienda`, con dos argumentos de entrada `ingreso` y `lista_hip`. Esta lista tendrá los 3 valores de los argumentos de entrada de `calcular_hip`, siendo esta una función que deberá ser utilizada dentro de `gasto_vivienda`. Tiene que devolver el valor del porcentaje de gasto en la hipoteca respecto a los ingresos. (Entre 0 y 1, es decir 0.5 si es del 50%)\n"
   ]
  },
  {
   "cell_type": "code",
   "execution_count": null,
   "metadata": {},
   "outputs": [],
   "source": []
  },
  {
   "cell_type": "markdown",
   "metadata": {},
   "source": [
    "\n",
    "5. Calcula el porcentaje de gasto en la hipoteca si el ingreso es de 1700 euros y guárdalo en la variable `res_porcentaje`.\n"
   ]
  },
  {
   "cell_type": "code",
   "execution_count": null,
   "metadata": {},
   "outputs": [],
   "source": []
  },
  {
   "cell_type": "markdown",
   "metadata": {},
   "source": [
    "\n",
    "6. Documenta ambas funciones con el estilo de Google.\n"
   ]
  },
  {
   "cell_type": "code",
   "execution_count": 11,
   "metadata": {},
   "outputs": [
    {
     "name": "stdout",
     "output_type": "stream",
     "text": [
      "6505.143508027657\n"
     ]
    }
   ],
   "source": [
    "\n"
   ]
  },
  {
   "attachments": {},
   "cell_type": "markdown",
   "metadata": {},
   "source": [
    "### Ejercicio 4 \n",
    "\n",
    "1. Crea una clase `Cliente` que tenga 1 atributo general `mamífero`(bool True) y 6 atributos en el constructor: `ojos`(int default 2), `altura`(float), `edad`(int), `ahorros`(float), `target`(bool default True) y `nombre`(str). Además, debe contar con dos métodos: \n",
    "\n",
    "- `cumplir_edad()`: al llamar a este método se debe sumar 1 al atributo edad del cliente y que retorne \"Felices x años!\" con la edad actualizada. Si cumple 80, su altura pasará a ser el 90% de su altura original.\n",
    "- `comprar()` que recibe el argumento de `volumen_gasto`(list): este método debe actualizar el atributo de ahorros, restándole el volumen del gasto total, retornando esos ahorros actualizados. Si el cliente tiene 0 ahorros o menos, deberá de cambiar el atributo `target` a False.\n",
    "\n",
    "2. (a partir de la variable **`lista_examen`**) Crea un cliente instanciandolo en el objeto `cliente_1` llamado \"Manuel\" que tiene el doble de tu de edad y mide 10 centímetros menos que tu altura. Tiene unos ahorros de 3000 euros, y al ser un cliente con capacidad de gasto en nuestro negocio, queremos fidelizarlo en nuestra campaña, el valor `target` será True el resto de atributos puedes elegir un valor.\n",
    "\n",
    "3. (a partir de la variable **`lista_examen`**) Crea un cliente instanciandolo en el objeto `cliente_2` llamada \"Laura\" con la mitad de tu edad y la altura de Manuel. Tiene unos ahorros de 2000 euros y al ser un cliente con capacidad de gasto en nuestro negocio, queremos fidelizarlo en nuestra campaña, el valor `target` será True el resto de atributos puedes elegir un valor.\n",
    "\n",
    "4. Haz que cumplan años tus dos clientes. Les quieres fidelizar, por lo que les mandas una oferta comercial de productos. Manuel compra 3 productos de 1000, 400 y 2000 euros mientras que Laura compra solo 1 producto de 1000. Comprueba el valor de los atributos `edad` , `ahorros` y `target` de ambos clientes.\n",
    "\n",
    "5. Documenta la clase con el estilo de Google\n"
   ]
  },
  {
   "cell_type": "code",
   "execution_count": 2,
   "metadata": {},
   "outputs": [],
   "source": [
    "class Cliente():\n",
    "\n",
    "    mamifero = True\n",
    "\n",
    "    def __init__(self,altura,edad,ahorros,nombre,target = True,ojos = 2):\n",
    "\n",
    "        self.ojos = ojos\n",
    "        self.altura = altura\n",
    "        self.edad = edad\n",
    "        self.ahorros = ahorros\n",
    "        self.target = target\n",
    "        self.nombre = nombre\n",
    "\n",
    "    def cumplir_edad(self):\n",
    "\n",
    "        self.edad += 1\n",
    "\n",
    "        if self.edad == 80:\n",
    "            self.altura = self.edad*0.9\n",
    "\n",
    "        return f\"Felices {self.edad} años!\"\n",
    "    \n",
    "    def comprar(self,volumen_gasto:list):\n",
    "\n",
    "        self.ahorros = self.ahorros - sum(volumen_gasto)\n",
    "\n",
    "        if self.ahorros <= 0 and self.target:\n",
    "            self.target = False\n",
    "\n",
    "\n"
   ]
  },
  {
   "cell_type": "code",
   "execution_count": 5,
   "metadata": {},
   "outputs": [],
   "source": [
    "clientes_1 = Cliente(1.7, 25, 3000, \"Manuel\",ojos = 1)\n",
    "\n",
    "clientes_2 = Cliente(1.68, 26, 2000, \"Laura\")"
   ]
  },
  {
   "cell_type": "code",
   "execution_count": 6,
   "metadata": {},
   "outputs": [
    {
     "data": {
      "text/plain": [
       "'Felices 26 años!'"
      ]
     },
     "execution_count": 6,
     "metadata": {},
     "output_type": "execute_result"
    }
   ],
   "source": [
    "clientes_1.cumplir_edad()"
   ]
  }
 ],
 "metadata": {
  "kernelspec": {
   "display_name": "Python 3",
   "language": "python",
   "name": "python3"
  },
  "language_info": {
   "codemirror_mode": {
    "name": "ipython",
    "version": 3
   },
   "file_extension": ".py",
   "mimetype": "text/x-python",
   "name": "python",
   "nbconvert_exporter": "python",
   "pygments_lexer": "ipython3",
   "version": "3.11.7"
  },
  "orig_nbformat": 4,
  "vscode": {
   "interpreter": {
    "hash": "abc9fc88bc0e5c548c5da0f33af674c000293e7a58ee42428ace4cfa52bc0e99"
   }
  }
 },
 "nbformat": 4,
 "nbformat_minor": 2
}
