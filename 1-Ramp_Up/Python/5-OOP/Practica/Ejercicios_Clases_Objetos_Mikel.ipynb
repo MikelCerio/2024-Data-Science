{
 "cells": [
  {
   "cell_type": "markdown",
   "metadata": {},
   "source": [
    "![imagen](./img/ejercicios.png)\n",
    "\n",
    "# Ejercicios Clases y Objetos"
   ]
  },
  {
   "attachments": {},
   "cell_type": "markdown",
   "metadata": {},
   "source": [
    "## Ejercicio 1\n",
    "Somos una empresa que tiene varias tiendas de electrodomésticos. Necesitamos un programa para manejar las tiendas, ver las ventas que han tenido, cuántos empleados hay, etc... Para ello vamos a modelizar la tienda en una clase, que tendrá las siguientes características:\n",
    "* Nombre clase: \"Tienda\"\n",
    "* Atributos comunes:\n",
    "    * Tipo: \"Electrodomésticos\"\n",
    "    * Abierta: True\n",
    "* Atributos propios de cada tienda:\n",
    "    * Nombre - String\n",
    "    * Dirección - String\n",
    "    * Número de empleados - int\n",
    "    * Ventas últimos 3 meses - Lista de 3 numeros\n",
    "* Método para calcular las ventas de todos los meses, que devuelva un número con todas las ventas.\n",
    "* Método que calcula la media de ventas de los últimos meses, por empleado\n",
    "* Método que devuelve en un string el nombre de la tienda, junto con su dirección.\n",
    "* Método que obtiene las ventas del último mes.\n",
    "* Método para dar una proyección de las ventas en caso de haber invertido X dinero en marketing en esa tienda. Siendo X el parámetro de entrada. Si X es menor de 1000, las ventas de los ultimos 3 meses hubiesen sido de (1.2 x ventas), si es mayor o igual de 1000, las ventas hubiesen sido de (1.5 x venta). El método reescribe el atributo de ventas en los últimos 3 meses, y además devuelve las ventas con el aumento.\n",
    "\n",
    "Se pide:\n",
    "1. Implementar la clase \"Tienda\"\n",
    "2. Crear tres tiendas con datos inventados\n",
    "3. Comprueba en al menos una de ellas, todo lo implementado en la clase tienda (sus atributos, media de ventas, ventas/empleado...)\n",
    "3. Calcular las ventas del último mes de todas las tiendas. Para ello usa el bucle `for`\n",
    "4. Imprime por pantalla los nombres de las tiendas cuya dirección lleve el string \"Avenida\"\n",
    "5. Seguro que ya has hecho este apartado... Documenta la clase :)"
   ]
  },
  {
   "cell_type": "code",
   "execution_count": 29,
   "metadata": {},
   "outputs": [],
   "source": [
    "# AQUÍ VA VUESTRO CÓDIGO\n",
    "class Tienda:\n",
    "    '''\n",
    "    Esto es una tienda\n",
    "\n",
    "    '''\n",
    "    tipo = \"Electrodomésticos\"\n",
    "    abierto = True\n",
    "\n",
    "    def __init__(self, nombre , direccion, num_empleados, lista_ventas3m,moneda):\n",
    "        '''\n",
    "        nombre: Nombre de la tienda\n",
    "        dirección: Dirección postal de la tienda\n",
    "        num_empleados: Numero de empleados activos\n",
    "        lista_ventas: Ventas de los ultimos tres meses\n",
    "        '''\n",
    "       \n",
    "        self.nombre = nombre\n",
    "        self.direccion = direccion\n",
    "        self.num_empleados = num_empleados\n",
    "        self.lista_ventas = lista_ventas3m\n",
    "        self.moneda = moneda\n",
    "        \n",
    "    def ventas(self):\n",
    "       '''\n",
    "       Suma de las ventas de los ultimos tres meses\n",
    "       '''\n",
    "       return str(sum(self.lista_ventas)) + self.moneda\n",
    "    \n",
    "    def media_ventas_empleado(self):\n",
    "        '''\n",
    "        Media de ventas por empleado\n",
    "        '''\n",
    "        return (sum(self.lista_ventas)/len(self.lista_ventas)) / self.num_empleados\n",
    "        \n",
    "    \n"
   ]
  },
  {
   "cell_type": "code",
   "execution_count": 30,
   "metadata": {},
   "outputs": [
    {
     "name": "stdout",
     "output_type": "stream",
     "text": [
      "\n",
      "        nombre: Nombre de la tienda\n",
      "        dirección: Dirección postal de la tienda\n",
      "        num_empleados: Numero de empleados activos\n",
      "        lista_ventas: Ventas de los ultimos tres meses\n",
      "        \n"
     ]
    }
   ],
   "source": [
    "print(Tienda.__init__.__doc__)"
   ]
  },
  {
   "cell_type": "code",
   "execution_count": 31,
   "metadata": {},
   "outputs": [],
   "source": [
    "tienda1= Tienda(\"Electrodomésticos Luismi\", \"Avd. Ferrocarril 1\",3,[10,20,100],\"EUR\")\n",
    "tienda2 = Tienda(\"Electrodomésticos Luismi\", \"Avd. Ferrocarril 3\",20,[1000,2000,3000],\"Pesetas\")"
   ]
  },
  {
   "cell_type": "code",
   "execution_count": 32,
   "metadata": {},
   "outputs": [
    {
     "data": {
      "text/plain": [
       "'130EUR'"
      ]
     },
     "execution_count": 32,
     "metadata": {},
     "output_type": "execute_result"
    }
   ],
   "source": [
    "tienda1.ventas()"
   ]
  },
  {
   "cell_type": "code",
   "execution_count": 33,
   "metadata": {},
   "outputs": [
    {
     "data": {
      "text/plain": [
       "'6000Pesetas'"
      ]
     },
     "execution_count": 33,
     "metadata": {},
     "output_type": "execute_result"
    }
   ],
   "source": [
    "tienda2.ventas()"
   ]
  },
  {
   "cell_type": "code",
   "execution_count": 34,
   "metadata": {},
   "outputs": [
    {
     "data": {
      "text/plain": [
       "14.444444444444445"
      ]
     },
     "execution_count": 34,
     "metadata": {},
     "output_type": "execute_result"
    }
   ],
   "source": [
    "tienda1.media_ventas_empleado()"
   ]
  },
  {
   "cell_type": "code",
   "execution_count": 35,
   "metadata": {},
   "outputs": [
    {
     "data": {
      "text/plain": [
       "100.0"
      ]
     },
     "execution_count": 35,
     "metadata": {},
     "output_type": "execute_result"
    }
   ],
   "source": [
    "tienda2.media_ventas_empleado()"
   ]
  },
  {
   "cell_type": "markdown",
   "metadata": {},
   "source": [
    "## Ejercicio 2\n",
    "En este ejercicio vamos a implementar una clase *Perro* en Python. La clase tiene las siguientes características:\n",
    "* Cosas que sabemos seguro que tiene un perro\n",
    "    * Tiene 4 patas\n",
    "    * 2 orejas\n",
    "    * 2 ojos\n",
    "    * Una velocidad de 0. Por defecto, el perro está parado\n",
    "* Cuando se inicialice:\n",
    "    * El perro será de una determinada raza\n",
    "    * Por defecto tendrá pelo \"Marrón\", a no ser que se diga lo contrario.\n",
    "    * Por defecto no tendrá dueño, a no ser que se diga lo contrario.\n",
    "    \n",
    "* Dispondrá también de un método llamado andar, que tiene un argumento de entrada (aumento_velocidad). Este valor se le sumará a la velocidad que ya llevaba el perro.\n",
    "* Necesita otro método (parar), donde pondremos la velocidad a 0.\n",
    "* Otro método llamado \"ladrar\", que tendrá un argumento de entrada, y la salida será el siguiente string: \"GUAU!\" + el argumento de entrada.\n",
    "\n",
    "\n",
    "Se pide:\n",
    "* Implementa la clase *Perro*\n",
    "* Crea un objeto de tipo *Perro*, sin dueño\n",
    "* Comprueba que están bien todos sus atributos\n",
    "* Prueba que ande, y comprueba su velocidad\n",
    "* Páralo\n",
    "* Documenta la clase *Perro*"
   ]
  },
  {
   "cell_type": "code",
   "execution_count": 4,
   "metadata": {},
   "outputs": [
    {
     "name": "stdout",
     "output_type": "stream",
     "text": [
      "Raza del perro: Golden Retriever\n",
      "Color de pelo: Marrón\n",
      "Dueño: None\n",
      "Velocidad actual: 10\n",
      "Velocidad después de parar: 0\n",
      "GUAU! ¡Estoy emocionado!\n"
     ]
    }
   ],
   "source": [
    "# AQUÍ VA VUESTRO CÓDIGO\n",
    "\n",
    "class Perro:\n",
    "    #Atributos del perro\n",
    "    patas = 4\n",
    "    orejas = 2\n",
    "    ojos = 2\n",
    "    velocidad = 0\n",
    "\n",
    "    def __init__(self,raza,color_pelo=\"Marrón\",dueno=None):\n",
    "\n",
    "        \n",
    "        \"\"\"\n",
    "        Inicializa un objeto de tipo Perro con los atributos especificados.\n",
    "\n",
    "        Args:\n",
    "            raza (str): La raza del perro.\n",
    "            color_pelo (str, optional): El color del pelo del perro. Por defecto es \"Marrón\".\n",
    "            dueno (str, optional): El dueño del perro. Por defecto es None.\n",
    "        \"\"\"\n",
    "        self.raza = raza\n",
    "        self.color_pelo = color_pelo\n",
    "        self.dueno = dueno\n",
    "        self.velocidad = 0\n",
    "\n",
    "    def andar(self, aumento_velocidad):\n",
    "        \"\"\"\n",
    "        Aumenta la velocidad del perro.\n",
    "\n",
    "        Args:\n",
    "            aumento_velocidad (int): Valor a sumar a la velocidad actual.\n",
    "        \"\"\"\n",
    "        self.velocidad += aumento_velocidad\n",
    "\n",
    "    def parar(self):\n",
    "        \"\"\"Detiene al perro, poniendo su velocidad a 0.\"\"\"\n",
    "        self.velocidad = 0\n",
    "\n",
    "    def ladrar(self, mensaje):\n",
    "        \"\"\"\n",
    "        Genera un ladrido del perro.\n",
    "\n",
    "        Args:\n",
    "            mensaje (str): Mensaje a incluir en el ladrido.\n",
    "\n",
    "        Returns:\n",
    "            str: El ladrido completo.\n",
    "        \"\"\"\n",
    "        return f\"GUAU! {mensaje}\"    \n",
    "# Crear un objeto de tipo Perro\n",
    "mi_perro = Perro(raza=\"Golden Retriever\")\n",
    "\n",
    "# Comprobar atributos\n",
    "print(f\"Raza del perro: {mi_perro.raza}\")\n",
    "print(f\"Color de pelo: {mi_perro.color_pelo}\")\n",
    "print(f\"Dueño: {mi_perro.dueno}\")\n",
    "\n",
    "# Hacer que el perro ande\n",
    "mi_perro.andar(10)\n",
    "print(f\"Velocidad actual: {mi_perro.velocidad}\")\n",
    "\n",
    "# Parar al perro\n",
    "mi_perro.parar()\n",
    "print(f\"Velocidad después de parar: {mi_perro.velocidad}\")\n",
    "\n",
    "# Ladrido del perro\n",
    "mensaje_ladrido = \"¡Estoy emocionado!\"\n",
    "print(mi_perro.ladrar(mensaje_ladrido))"
   ]
  }
 ],
 "metadata": {
  "kernelspec": {
   "display_name": "Python 3.7.4 64-bit",
   "language": "python",
   "name": "python3"
  },
  "language_info": {
   "codemirror_mode": {
    "name": "ipython",
    "version": 3
   },
   "file_extension": ".py",
   "mimetype": "text/x-python",
   "name": "python",
   "nbconvert_exporter": "python",
   "pygments_lexer": "ipython3",
   "version": "3.11.7"
  },
  "vscode": {
   "interpreter": {
    "hash": "90139cb9a825bf3d63f6f6704e828dbd1ff7edbd4d0c6e906a71235d6efc74af"
   }
  }
 },
 "nbformat": 4,
 "nbformat_minor": 4
}
