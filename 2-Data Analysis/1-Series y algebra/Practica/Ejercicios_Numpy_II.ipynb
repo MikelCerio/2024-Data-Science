{
 "cells": [
  {
   "cell_type": "markdown",
   "metadata": {},
   "source": [
    "![imagen](./img/ejercicios.png)"
   ]
  },
  {
   "cell_type": "code",
   "execution_count": 1,
   "metadata": {},
   "outputs": [],
   "source": [
    "import numpy as np"
   ]
  },
  {
   "cell_type": "markdown",
   "metadata": {},
   "source": [
    "## Ejercicio 1\n",
    "1. Crea un array que vaya del 0 al 9 y que se llame `my_array`\n",
    "2. Imprime por pantalla los elementos [9 7 5 3 1] en ese orden."
   ]
  },
  {
   "cell_type": "code",
   "execution_count": 2,
   "metadata": {},
   "outputs": [
    {
     "name": "stdout",
     "output_type": "stream",
     "text": [
      "[0 1 2 3 4 5 6 7 8 9]\n",
      "[9 7 5 3 1]\n"
     ]
    }
   ],
   "source": [
    "# AQUÍ VA VUESTRO CÓDIGO\n",
    "my_array = np.arange(0,10)\n",
    "\n",
    "print(my_array)\n",
    "\n",
    "print(np.arange(start=9,stop=-1,step=-2))"
   ]
  },
  {
   "cell_type": "markdown",
   "metadata": {},
   "source": [
    "## Ejercicio 2\n",
    "Imprime por pantalla la secuencia [8 7] del array `my_array`"
   ]
  },
  {
   "cell_type": "code",
   "execution_count": 3,
   "metadata": {},
   "outputs": [
    {
     "name": "stdout",
     "output_type": "stream",
     "text": [
      "Desde el octavo hasta el septimo, [8 7]\n"
     ]
    }
   ],
   "source": [
    "# AQUÍ VA VUESTRO CÓDIGO\n",
    "print(\"Desde el octavo hasta el septimo,\",my_array[-3:-1][::-1])"
   ]
  },
  {
   "cell_type": "markdown",
   "metadata": {},
   "source": [
    "## Ejercicio 3\n",
    "Imprime por pantalla la secuencia [2 1 0] de `my_array`"
   ]
  },
  {
   "cell_type": "code",
   "execution_count": 4,
   "metadata": {},
   "outputs": [
    {
     "name": "stdout",
     "output_type": "stream",
     "text": [
      "[2 1 0]\n"
     ]
    }
   ],
   "source": [
    "# AQUÍ VA VUESTRO CÓDIGO\n",
    "print(my_array[:3][::-1])"
   ]
  },
  {
   "cell_type": "markdown",
   "metadata": {},
   "source": [
    "## Ejercicio 4\n",
    "1. Crea una matriz de 4x5, con una secuencia del 1 al 20\n",
    "2. Invierte totalmente la matriz. Tanto las filas, como las columnas"
   ]
  },
  {
   "cell_type": "code",
   "execution_count": 5,
   "metadata": {},
   "outputs": [
    {
     "name": "stdout",
     "output_type": "stream",
     "text": [
      "[[ 1  2  3  4  5]\n",
      " [ 6  7  8  9 10]\n",
      " [11 12 13 14 15]\n",
      " [16 17 18 19 20]]\n",
      "[[ 1  2  3  4]\n",
      " [ 5  6  7  8]\n",
      " [ 9 10 11 12]\n",
      " [13 14 15 16]\n",
      " [17 18 19 20]]\n"
     ]
    }
   ],
   "source": [
    "# AQUÍ VA VUESTRO CÓDIGO\n",
    "x = np.arange(1,21).reshape(4,5)\n",
    "\n",
    "print(x)\n",
    "\n",
    "print(x.reshape(5,4))"
   ]
  },
  {
   "cell_type": "markdown",
   "metadata": {},
   "source": [
    "## Ejercicio 5\n",
    "\n",
    "Obtén el siguiente array, partiendo de la matriz del ejercicio 4\n",
    "```Python\n",
    "array([[1, 2],\n",
    "       [6, 7]])\n",
    "```"
   ]
  },
  {
   "cell_type": "code",
   "execution_count": 6,
   "metadata": {},
   "outputs": [
    {
     "name": "stdout",
     "output_type": "stream",
     "text": [
      "2 primeras filas y 2 primeras columnas\n",
      " [[1 2]\n",
      " [6 7]]\n"
     ]
    }
   ],
   "source": [
    "# AQUÍ VA VUESTRO CÓDIGO\n",
    "print(\"2 primeras filas y 2 primeras columnas\\n\",x[:2,:2])"
   ]
  },
  {
   "cell_type": "markdown",
   "metadata": {},
   "source": [
    "## Ejercicio 6\n",
    "Obtén el siguiente array, partiendo de la matriz del ejercicio 4\n",
    "```Python\n",
    "array([[ 1,  3,  5],\n",
    "       [11, 13, 15]])\n",
    "```"
   ]
  },
  {
   "cell_type": "code",
   "execution_count": 7,
   "metadata": {},
   "outputs": [
    {
     "name": "stdout",
     "output_type": "stream",
     "text": [
      "la primera y la tercera fila cada dos columnas\n",
      " [[ 1  3  5]\n",
      " [11 13 15]]\n"
     ]
    }
   ],
   "source": [
    "# AQUÍ VA VUESTRO CÓDIGO\n",
    "print(\"la primera y la tercera fila cada dos columnas\\n\",x[0::2,::2])"
   ]
  },
  {
   "cell_type": "markdown",
   "metadata": {},
   "source": [
    "## Ejercicio 7\n",
    "Obtén el siguiente array, partiendo de la matriz del ejercicio 4\n",
    "```Python\n",
    "array([[ 5,  4,  3,  2,  1],\n",
    "       [10,  9,  8,  7,  6],\n",
    "       [15, 14, 13, 12, 11]])\n",
    "```"
   ]
  },
  {
   "cell_type": "code",
   "execution_count": 8,
   "metadata": {},
   "outputs": [
    {
     "name": "stdout",
     "output_type": "stream",
     "text": [
      "Invertir las 3 primeras columnas\n",
      " [[ 5  4  3  2  1]\n",
      " [10  9  8  7  6]\n",
      " [15 14 13 12 11]]\n"
     ]
    }
   ],
   "source": [
    "# AQUÍ VA VUESTRO CÓDIGO\n",
    "print(\"Invertir las 3 primeras columnas\\n\",x[0:3,::-1])"
   ]
  },
  {
   "cell_type": "markdown",
   "metadata": {},
   "source": [
    "## Ejercicio 8\n",
    "Dado el siguiente array:\n",
    "\n",
    "```Python\n",
    "x = np.array([\"Loro\", \"Perro\", \"Gato\", \"Loro\", \"Perro\"])\n",
    "```\n",
    "\n",
    "Filtra el array para quedarte únicamente con los loros.\n",
    "\n",
    "Resuélvelo de dos maneras diferentes"
   ]
  },
  {
   "cell_type": "code",
   "execution_count": 9,
   "metadata": {},
   "outputs": [
    {
     "name": "stdout",
     "output_type": "stream",
     "text": [
      "['Loro' 'Loro']\n"
     ]
    }
   ],
   "source": [
    "# AQUÍ VA VUESTRO CÓDIGO\n",
    "x = np.array([\"Loro\", \"Perro\", \"Gato\", \"Loro\", \"Perro\"])\n",
    "\n",
    "print(x[x == \"Loro\"])"
   ]
  },
  {
   "cell_type": "code",
   "execution_count": 10,
   "metadata": {},
   "outputs": [
    {
     "name": "stdout",
     "output_type": "stream",
     "text": [
      "['Loro', 'Loro']\n"
     ]
    }
   ],
   "source": [
    "x\n",
    "\n",
    "lista_filtrada = []\n",
    "\n",
    "for elem in x:\n",
    "    if elem == \"Loro\":\n",
    "        lista_filtrada.append(elem)\n",
    "print(lista_filtrada)"
   ]
  },
  {
   "cell_type": "markdown",
   "metadata": {},
   "source": [
    "## Ejercicio 9\n",
    "Crea una secuencia de 20 elementos y transfórmala en un array compuesto por 2 matrices de 5x2"
   ]
  },
  {
   "cell_type": "code",
   "execution_count": 11,
   "metadata": {},
   "outputs": [
    {
     "name": "stdout",
     "output_type": "stream",
     "text": [
      "[[ 0  1  2  3  4  5  6  7  8  9]\n",
      " [10 11 12 13 14 15 16 17 18 19]]\n",
      "[[ 0  1  2  3  4]\n",
      " [10 11 12 13 14]]\n",
      "[[ 5  6  7  8  9]\n",
      " [15 16 17 18 19]]\n"
     ]
    }
   ],
   "source": [
    "# AQUÍ VA VUESTRO CÓDIGO\n",
    "\n",
    "array_9 = np.arange(20).reshape(2,10)\n",
    "print(array_9)\n",
    "\n",
    "x1,x2 = np.hsplit(array_9,[5])\n",
    "\n",
    "print(x1)\n",
    "\n",
    "print(x2)\n",
    "\n"
   ]
  },
  {
   "cell_type": "markdown",
   "metadata": {},
   "source": [
    "## Ejercicio 10\n",
    "\n",
    "Crea un array de 10 0s. ¿Cuánto ocupa en memoria?\n",
    "\n",
    "Sustituye el 4to elemento por 1, e imprime el array por pantalla"
   ]
  },
  {
   "cell_type": "code",
   "execution_count": 12,
   "metadata": {},
   "outputs": [
    {
     "name": "stdout",
     "output_type": "stream",
     "text": [
      "[0. 0. 0. 0. 0. 0. 0. 0. 0. 0.]\n"
     ]
    },
    {
     "data": {
      "text/plain": [
       "array([0., 0., 0., 1., 0., 0., 0., 0., 0., 0.])"
      ]
     },
     "execution_count": 12,
     "metadata": {},
     "output_type": "execute_result"
    }
   ],
   "source": [
    "# AQUÍ VA VUESTRO CÓDIGO\n",
    "\n",
    "array_10 = np.zeros((10))\n",
    "\n",
    "print(array_10)\n",
    "\n",
    "array_10[3] = 1\n",
    "\n",
    "array_10\n",
    "\n"
   ]
  },
  {
   "cell_type": "markdown",
   "metadata": {},
   "source": [
    "## Ejercicio 11\n",
    "\n",
    "Crea un vector que vaya del 10 al 49\n",
    "\n",
    "Inviértelo"
   ]
  },
  {
   "cell_type": "code",
   "execution_count": 13,
   "metadata": {},
   "outputs": [
    {
     "data": {
      "text/plain": [
       "array([10, 11, 12, 13, 14, 15, 16, 17, 18, 19, 20, 21, 22, 23, 24, 25, 26,\n",
       "       27, 28, 29, 30, 31, 32, 33, 34, 35, 36, 37, 38, 39, 40, 41, 42, 43,\n",
       "       44, 45, 46, 47, 48, 49])"
      ]
     },
     "execution_count": 13,
     "metadata": {},
     "output_type": "execute_result"
    }
   ],
   "source": [
    "# AQUÍ VA VUESTRO CÓDIGO\n",
    "\n",
    "vector_11 = np.arange(10,50)\n",
    "\n",
    "vector_11"
   ]
  },
  {
   "cell_type": "code",
   "execution_count": 14,
   "metadata": {},
   "outputs": [
    {
     "data": {
      "text/plain": [
       "array([49, 48, 47, 46, 45, 44, 43, 42, 41, 40, 39, 38, 37, 36, 35, 34, 33,\n",
       "       32, 31, 30, 29, 28, 27, 26, 25, 24, 23, 22, 21, 20, 19, 18, 17, 16,\n",
       "       15, 14, 13, 12, 11, 10])"
      ]
     },
     "execution_count": 14,
     "metadata": {},
     "output_type": "execute_result"
    }
   ],
   "source": [
    "vector_11_inv = vector_11[::-1]\n",
    "\n",
    "vector_11_inv"
   ]
  },
  {
   "cell_type": "markdown",
   "metadata": {},
   "source": [
    "## Ejercicio 12\n",
    "Encuentra los índices de los valores que no sean 0 del siguiente vector [1,2,0,0,4,0]. El output sería [0, 1, 4]. [Encuentra el método apropiado en la documentación.](https://numpy.org/doc/) Encapsúlalo en una función, con un argumento de entrada de un vector."
   ]
  },
  {
   "cell_type": "code",
   "execution_count": 15,
   "metadata": {},
   "outputs": [],
   "source": [
    "# AQUÍ VA VUESTRO CÓDIGO"
   ]
  },
  {
   "attachments": {},
   "cell_type": "markdown",
   "metadata": {},
   "source": [
    "## Ejercicio 13\n",
    "Crea una matriz de números aleatorios 10x10. Encuentra los valores mínimo y máximo."
   ]
  },
  {
   "cell_type": "code",
   "execution_count": 16,
   "metadata": {},
   "outputs": [
    {
     "data": {
      "text/plain": [
       "array([[0.60530625, 0.34685983, 0.38327723, 0.98400474, 0.88895566,\n",
       "        0.20474   , 0.36606699, 0.26898572, 0.43139364, 0.35553456],\n",
       "       [0.07432752, 0.04134588, 0.93557193, 0.00202903, 0.62019297,\n",
       "        0.08089065, 0.69380086, 0.43228509, 0.23136047, 0.47090982],\n",
       "       [0.5445827 , 0.48044262, 0.92330355, 0.06800725, 0.48264491,\n",
       "        0.42721954, 0.00175424, 0.45799288, 0.58155419, 0.97047424],\n",
       "       [0.29274116, 0.04812011, 0.23295593, 0.1637117 , 0.0363719 ,\n",
       "        0.16838099, 0.58473341, 0.93220216, 0.63322419, 0.8956788 ],\n",
       "       [0.17403848, 0.44107021, 0.96690056, 0.33891017, 0.20238219,\n",
       "        0.0335012 , 0.25116814, 0.09276503, 0.61058491, 0.17197732],\n",
       "       [0.43568661, 0.47243196, 0.43265827, 0.16252873, 0.57280298,\n",
       "        0.99729356, 0.59781483, 0.86341826, 0.68629692, 0.35940068],\n",
       "       [0.49342295, 0.95319419, 0.77259165, 0.16798351, 0.36662123,\n",
       "        0.89812893, 0.14072628, 0.05421348, 0.2541793 , 0.14898968],\n",
       "       [0.561621  , 0.97002811, 0.72328427, 0.14970454, 0.94347981,\n",
       "        0.13186384, 0.07670726, 0.68166793, 0.75058161, 0.66333217],\n",
       "       [0.72095613, 0.29879671, 0.45909416, 0.83213708, 0.16717515,\n",
       "        0.16016776, 0.64092569, 0.3310444 , 0.26622554, 0.83897822],\n",
       "       [0.73577194, 0.19706275, 0.58582802, 0.00449361, 0.95360095,\n",
       "        0.72224374, 0.96106563, 0.80590471, 0.04604386, 0.15616549]])"
      ]
     },
     "execution_count": 16,
     "metadata": {},
     "output_type": "execute_result"
    }
   ],
   "source": [
    "# AQUÍ VA VUESTRO CÓDIGO\n",
    "matriz_13 = np.random.random(100).reshape(10,10)\n",
    "\n",
    "matriz_13"
   ]
  },
  {
   "cell_type": "code",
   "execution_count": 17,
   "metadata": {},
   "outputs": [
    {
     "name": "stdout",
     "output_type": "stream",
     "text": [
      "0.99729356020358 \n",
      " 0.0017542435163510062\n"
     ]
    }
   ],
   "source": [
    "max = matriz_13.max()\n",
    "\n",
    "min = matriz_13.min()\n",
    "\n",
    "print(max,\"\\n\",min)\n",
    "\n"
   ]
  },
  {
   "cell_type": "markdown",
   "metadata": {},
   "source": [
    "## Ejercicio 14\n",
    "Crea un vector aleatorio de tamaño 30 y calcula su media"
   ]
  },
  {
   "cell_type": "code",
   "execution_count": 18,
   "metadata": {},
   "outputs": [
    {
     "name": "stdout",
     "output_type": "stream",
     "text": [
      "0.485496576069819\n"
     ]
    }
   ],
   "source": [
    "# AQUÍ VA VUESTRO CÓDIGO\n",
    "\n",
    "vector_14 = np.random.random(30)\n",
    "\n",
    "print(np.mean(vector_14))"
   ]
  },
  {
   "cell_type": "markdown",
   "metadata": {},
   "source": [
    "## Ejercicio 15\n",
    "Crea un array cuadrado de 2D, con las dimensiones que quieras, pero que todo el borde esté compuesto por 1s, y el interior por 0s"
   ]
  },
  {
   "cell_type": "code",
   "execution_count": 19,
   "metadata": {},
   "outputs": [
    {
     "data": {
      "text/plain": [
       "array([[1., 1., 1., 1.],\n",
       "       [1., 0., 0., 1.],\n",
       "       [1., 0., 0., 1.],\n",
       "       [1., 1., 1., 1.]])"
      ]
     },
     "execution_count": 19,
     "metadata": {},
     "output_type": "execute_result"
    }
   ],
   "source": [
    "# AQUÍ VA VUESTRO CÓDIGO\n",
    "\n",
    "array_15 = np.ones((4,4))\n",
    "\n",
    "array_15\n",
    "\n",
    "array_15[1:3,1:3] = 0\n",
    "\n",
    "array_15"
   ]
  },
  {
   "cell_type": "markdown",
   "metadata": {},
   "source": [
    "## Ejercicio 16\n",
    "Crea una matriz de 8x8, y rellénala con 0s y 1s. Tienes que replicar:\n",
    "```Python\n",
    "[[0 1 0 1 0 1 0 1]\n",
    " [1 0 1 0 1 0 1 0]\n",
    " [0 1 0 1 0 1 0 1]\n",
    " [1 0 1 0 1 0 1 0]\n",
    " [0 1 0 1 0 1 0 1]\n",
    " [1 0 1 0 1 0 1 0]\n",
    " [0 1 0 1 0 1 0 1]\n",
    " [1 0 1 0 1 0 1 0]]\n",
    "```"
   ]
  },
  {
   "cell_type": "code",
   "execution_count": 20,
   "metadata": {},
   "outputs": [
    {
     "name": "stdout",
     "output_type": "stream",
     "text": [
      "[[0 1 0 1 0 1 0 1]\n",
      " [1 0 1 0 1 0 1 0]\n",
      " [0 1 0 1 0 1 0 1]\n",
      " [1 0 1 0 1 0 1 0]\n",
      " [0 1 0 1 0 1 0 1]\n",
      " [1 0 1 0 1 0 1 0]\n",
      " [0 1 0 1 0 1 0 1]\n",
      " [1 0 1 0 1 0 1 0]]\n"
     ]
    }
   ],
   "source": [
    "# AQUÍ VA VUESTRO CÓDIGO\n",
    "\n",
    "\n",
    "\n",
    "submatrix = np.array([[0, 1], [1, 0]])\n",
    "\n",
    "\n",
    "repeated_submatrix = np.tile(submatrix, (4, 4))\n",
    "\n",
    "print(repeated_submatrix)\n"
   ]
  },
  {
   "cell_type": "markdown",
   "metadata": {},
   "source": [
    "## Ejercicio 17\n",
    "Replica la matriz del apartado anterior, pero en este caso usando [la función `tile`](https://numpy.org/doc/stable/reference/generated/numpy.tile.html)"
   ]
  },
  {
   "cell_type": "code",
   "execution_count": 21,
   "metadata": {},
   "outputs": [
    {
     "name": "stdout",
     "output_type": "stream",
     "text": [
      "[[0 1 0 1 0 1 0 1]\n",
      " [1 0 1 0 1 0 1 0]\n",
      " [0 1 0 1 0 1 0 1]\n",
      " [1 0 1 0 1 0 1 0]\n",
      " [0 1 0 1 0 1 0 1]\n",
      " [1 0 1 0 1 0 1 0]\n",
      " [0 1 0 1 0 1 0 1]\n",
      " [1 0 1 0 1 0 1 0]]\n"
     ]
    }
   ],
   "source": [
    "# AQUÍ VA VUESTRO CÓDIGO\n",
    "submatrix = np.array([[0, 1], [1, 0]])\n",
    "\n",
    "\n",
    "repeated_submatrix = np.tile(submatrix, (4, 4))\n",
    "\n",
    "print(repeated_submatrix)"
   ]
  },
  {
   "cell_type": "markdown",
   "metadata": {},
   "source": [
    "## Ejercicio 18\n",
    "Crea una matriz aleatoria de 5x5 y normaliza sus valores. Para normalizar tienes que restar sus valores por la media(`np.mean`) y dividir el resultado por la desviación estándar(`np.std`)."
   ]
  },
  {
   "cell_type": "code",
   "execution_count": 22,
   "metadata": {},
   "outputs": [
    {
     "name": "stdout",
     "output_type": "stream",
     "text": [
      "[-0.1618758  -0.73695308 -0.32014185 -0.27637892 -0.19584728 -0.52377332\n",
      " -0.17977076 -0.77279898 -0.65692859 -0.41302881 -0.37945249 -0.39646076\n",
      " -0.85176881 -0.78027139 -0.01124061 -0.44687242 -0.59350474 -0.71287828\n",
      " -0.84861116 -0.09771747 -0.41301072 -0.64872189 -0.86699821 -0.46020933\n",
      " -0.82439244]\n"
     ]
    }
   ],
   "source": [
    "# AQUÍ VA VUESTRO CÓDIGO\n",
    "matriz_18 = np.random.random(25)\n",
    "\n",
    "col_means = np.mean(matriz_18, axis = 0)\n",
    "\n",
    "matriz_18_norm = matriz_18 - col_means / np.mean(matriz_18, axis = 0)\n",
    "\n",
    "print(matriz_18_norm)"
   ]
  },
  {
   "cell_type": "markdown",
   "metadata": {},
   "source": [
    "## Ejercicio 19\n",
    "1. Crea una secuencia de números que vayan del 0 al 10.\n",
    "2. Crea un nuevo array, que parta del anterior, pero sustituya por el valor -1, todos los elementos cuyo valor se encuentre entre el 3 y el 8.\n",
    "3. Crea un nuevo array que niegue todos los elementos entre el 3 y el 8"
   ]
  },
  {
   "cell_type": "code",
   "execution_count": 41,
   "metadata": {},
   "outputs": [
    {
     "name": "stdout",
     "output_type": "stream",
     "text": [
      "[ 0  1  2  3 -1 -1 -1 -1  8  9 10]\n"
     ]
    },
    {
     "data": {
      "text/plain": [
       "[0, 1, 2, 3, 8, 9, 10]"
      ]
     },
     "execution_count": 41,
     "metadata": {},
     "output_type": "execute_result"
    }
   ],
   "source": [
    "# AQUÍ VA VUESTRO CÓDIGO\n",
    "array_19 = np.arange(0,11)\n",
    "\n",
    "array_19\n",
    "\n",
    "array_19[4:8] = -1\n",
    "\n",
    "print(array_19)\n",
    "\n",
    "nueva_array19 = [valor for valor in array_19 if valor != -1]\n",
    "\n",
    "nueva_array19\n"
   ]
  }
 ],
 "metadata": {
  "kernelspec": {
   "display_name": "Python 3.7.4 64-bit",
   "language": "python",
   "name": "python3"
  },
  "language_info": {
   "codemirror_mode": {
    "name": "ipython",
    "version": 3
   },
   "file_extension": ".py",
   "mimetype": "text/x-python",
   "name": "python",
   "nbconvert_exporter": "python",
   "pygments_lexer": "ipython3",
   "version": "3.11.7"
  },
  "vscode": {
   "interpreter": {
    "hash": "90139cb9a825bf3d63f6f6704e828dbd1ff7edbd4d0c6e906a71235d6efc74af"
   }
  }
 },
 "nbformat": 4,
 "nbformat_minor": 4
}
